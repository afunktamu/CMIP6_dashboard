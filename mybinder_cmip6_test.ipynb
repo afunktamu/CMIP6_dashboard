{
 "cells": [
  {
   "cell_type": "markdown",
   "id": "9538e8ef-5284-4002-b55d-0fae7c939b59",
   "metadata": {},
   "source": [
    "# CMIP6 in the Cloud Test"
   ]
  },
  {
   "cell_type": "code",
   "execution_count": null,
   "id": "bf8a26a9-077d-4171-851f-5ed009b0092e",
   "metadata": {},
   "outputs": [],
   "source": [
    "# Python Library Imports\n",
    "# 1. Pandas - Tabular data manipulation (kind of like Excel for Python)\n",
    "# 2. Xarray - Self-describing (via metadata) container for gridded data\n",
    "# 3. gcsfs - Library for accessing Google Cloud Storage\n",
    "# 4. xmip - Library for renaming CMIP6 variables from different runs to make consistent? Works with intake library, I think.\n",
    "# 5. hvplot - High-level plotting library that's awesome, we import the Pandas (#1) extensions here to make plotting from a Pandas Dataframe easier. Also import for xarray.\n",
    "\n",
    "import pandas as pd\n",
    "import xarray as xr\n",
    "xr.set_options(keep_attrs=True)\n",
    "import gcsfs\n",
    "from xmip.preprocessing import rename_cmip6\n",
    "import hvplot.pandas, hvplot.xarray"
   ]
  },
  {
   "cell_type": "code",
   "execution_count": null,
   "id": "e76a1e18-f3f2-407e-817b-df8d9783e1bc",
   "metadata": {},
   "outputs": [],
   "source": [
    "# Load the CMIP6 cloud data detail document into a Pandas DataFrame \n",
    "df = pd.read_csv('https://storage.googleapis.com/cmip6/cmip6-zarr-consolidated-stores.csv')"
   ]
  },
  {
   "cell_type": "code",
   "execution_count": null,
   "id": "ca2023f9-80ee-4969-bf70-a2b81fccf81d",
   "metadata": {},
   "outputs": [],
   "source": [
    "# Use the new hvplot Explorer functionality to explore CMIP6 dataset descriptions\n",
    "# Select Kind = 'table' to get a table view of the datasets\n",
    "hvexplorer = hvplot.explorer(df)\n",
    "hvexplorer"
   ]
  },
  {
   "cell_type": "code",
   "execution_count": null,
   "id": "85839a1c-8377-4585-a2c7-c0e9bf3f771e",
   "metadata": {},
   "outputs": [],
   "source": [
    "# Create a Pandas Dataframe that is a subset of our original 'df' dataframe\n",
    "# Select the rows as seen in the function call below\n",
    "df_pr = df.query(\"activity_id=='CMIP' & institution_id=='NCAR' & variable_id=='pr'\")"
   ]
  },
  {
   "cell_type": "code",
   "execution_count": null,
   "id": "531ff1a3-d472-4c6b-bbfd-ee7d19a1ecb8",
   "metadata": {},
   "outputs": [],
   "source": [
    "# We'll just select the 'zstore' field from the first row and get back an Xarray Dataset\n",
    "ds = xr.open_zarr(df_pr.iloc[0].zstore)\n",
    "ds"
   ]
  },
  {
   "cell_type": "code",
   "execution_count": null,
   "id": "539d0ac0-4639-4e67-8c5b-71a356a3ba6d",
   "metadata": {},
   "outputs": [],
   "source": [
    "# Let's plot the mean precipitation flux ('pr') using Hvplot\n",
    "ds.pr.mean(dim='time').hvplot.quadmesh(x='lon', y='lat', geo=True, rasterize=True, cmap='rainbow', cnorm='linear', coastline='50m', \n",
    "                                       frame_width=500,\n",
    "                                       xlabel='Longitude', ylabel='Latitude',\n",
    "                                       title='CMIP NCAR CESM2 Precip. Flux')"
   ]
  },
  {
   "cell_type": "code",
   "execution_count": null,
   "id": "816e7299-8e87-4a04-81e0-6924e659b3df",
   "metadata": {},
   "outputs": [],
   "source": []
  }
 ],
 "metadata": {
  "kernelspec": {
   "display_name": "pyviz_py310",
   "language": "python",
   "name": "pyviz_py310"
  },
  "language_info": {
   "codemirror_mode": {
    "name": "ipython",
    "version": 3
   },
   "file_extension": ".py",
   "mimetype": "text/x-python",
   "name": "python",
   "nbconvert_exporter": "python",
   "pygments_lexer": "ipython3",
   "version": "3.10.5"
  }
 },
 "nbformat": 4,
 "nbformat_minor": 5
}
